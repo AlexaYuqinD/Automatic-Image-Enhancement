{
 "cells": [
  {
   "cell_type": "code",
   "execution_count": 45,
   "metadata": {},
   "outputs": [],
   "source": [
    "import imageio\n",
    "import os\n",
    "import shutil"
   ]
  },
  {
   "cell_type": "code",
   "execution_count": 46,
   "metadata": {},
   "outputs": [],
   "source": [
    "PATH = 'original'"
   ]
  },
  {
   "cell_type": "code",
   "execution_count": 47,
   "metadata": {},
   "outputs": [],
   "source": [
    "for file in os.listdir(PATH):\n",
    "    if file.endswith('tif'):\n",
    "        image = imageio.imread(PATH + '/' + file)\n",
    "        height, width, channel = image.shape\n",
    "        newh, neww = 100, 100\n",
    "        indh = height//newh\n",
    "        indw = width//neww\n",
    "        for i in range(indh):\n",
    "            for j in range(indw):\n",
    "                imageio.imsave('patch/original/' + file[:5] + '_' + str(i) + str(j) + '.tif', image[i*newh:(i+1)*newh,j*neww:(j+1)*neww,:])\n",
    "        if height%newh != 0:\n",
    "            i = indh\n",
    "            for j in range(indw):\n",
    "                imageio.imsave('patch/original/' + file[:5] + '_' + str(i) + str(j) + '.tif', image[-newh:,j*neww:(j+1)*neww,:])\n",
    "        if width%neww != 0:\n",
    "            j = indw\n",
    "            for i in range(indh):\n",
    "                imageio.imsave('patch/original/' + file[:5] + '_' + str(i) + str(j) + '.tif', image[i*newh:(i+1)*newh,-neww:,:])\n",
    "\n",
    "        if height%newh != 0 and width%neww != 0:\n",
    "            i = indh   \n",
    "            j = indw\n",
    "            imageio.imsave('patch/original/' + file[:5] + '_' + str(i) + str(j) + '.tif', image[-newh:,-neww:,:])\n",
    "\n",
    "        \n",
    "        \n",
    "    \n"
   ]
  },
  {
   "cell_type": "code",
   "execution_count": 48,
   "metadata": {},
   "outputs": [],
   "source": [
    "PATH = 'expert/artistA'"
   ]
  },
  {
   "cell_type": "code",
   "execution_count": 49,
   "metadata": {},
   "outputs": [],
   "source": [
    "for file in os.listdir(PATH):\n",
    "    if file.endswith('tif'):\n",
    "        image = imageio.imread(PATH + '/' + file)\n",
    "        height, width, channel = image.shape\n",
    "        newh, neww = 100, 100\n",
    "        indh = height//newh\n",
    "        indw = width//neww\n",
    "        for i in range(indh):\n",
    "            for j in range(indw):\n",
    "                imageio.imsave('patch/style/' + file[:6] + '_' + str(i) + str(j) + '.tif', image[i*newh:(i+1)*newh,j*neww:(j+1)*neww,:])\n",
    "        if height%newh != 0:\n",
    "            i = indh\n",
    "            for j in range(indw):\n",
    "                imageio.imsave('patch/style/' + file[:6] + '_' + str(i) + str(j) + '.tif', image[-newh:,j*neww:(j+1)*neww,:])\n",
    "        if width%neww != 0:\n",
    "            j = indw\n",
    "            for i in range(indh):\n",
    "                imageio.imsave('patch/style/' + file[:6] + '_' + str(i) + str(j) + '.tif', image[i*newh:(i+1)*newh,-neww:,:])\n",
    "\n",
    "        if height%newh != 0 and width%neww != 0:\n",
    "            i = indh   \n",
    "            j = indw\n",
    "            imageio.imsave('patch/style/' + file[:6] + '_' + str(i) + str(j) + '.tif', image[-newh:,-neww:,:])\n"
   ]
  },
  {
   "cell_type": "code",
   "execution_count": 50,
   "metadata": {},
   "outputs": [
    {
     "name": "stdout",
     "output_type": "stream",
     "text": [
      "9925\n",
      "9925\n"
     ]
    }
   ],
   "source": [
    "path1 = 'patch/original/'\n",
    "path2 = 'patch/style/'\n",
    "print(len(os.listdir(path1)))\n",
    "print(len(os.listdir(path2)))\n"
   ]
  },
  {
   "cell_type": "code",
   "execution_count": 27,
   "metadata": {},
   "outputs": [],
   "source": [
    "for filename in os.listdir(path2):\n",
    "    if filename[:5] + filename[6:] not in os.listdir(path1):\n",
    "        print(filename)"
   ]
  },
  {
   "cell_type": "code",
   "execution_count": 28,
   "metadata": {},
   "outputs": [],
   "source": [
    "for filename in os.listdir(path1):\n",
    "    if filename[:5] + 'a' + filename[5:] not in os.listdir(path2):\n",
    "        print(filename)"
   ]
  },
  {
   "cell_type": "code",
   "execution_count": 69,
   "metadata": {},
   "outputs": [],
   "source": [
    "count = 0\n",
    "del1 = []\n",
    "for file in os.listdir(path1):\n",
    "    if file.endswith('tif'):\n",
    "        image = imageio.imread(path1 + '/' + file)\n",
    "        s = image.shape[2]\n",
    "        if s != 3:\n",
    "            count += 1\n",
    "            del1.append(file)\n"
   ]
  },
  {
   "cell_type": "code",
   "execution_count": 70,
   "metadata": {},
   "outputs": [
    {
     "name": "stdout",
     "output_type": "stream",
     "text": [
      "60\n"
     ]
    }
   ],
   "source": [
    "print(count)"
   ]
  },
  {
   "cell_type": "code",
   "execution_count": 71,
   "metadata": {},
   "outputs": [],
   "source": [
    "count = 0\n",
    "del2 = []\n",
    "for file in os.listdir(path2):\n",
    "    if file.endswith('tif'):\n",
    "        image = imageio.imread(path2 + '/' + file)\n",
    "        s = image.shape[2]\n",
    "        if s != 3:\n",
    "            count += 1\n",
    "            del2.append(file)\n"
   ]
  },
  {
   "cell_type": "code",
   "execution_count": 72,
   "metadata": {},
   "outputs": [
    {
     "name": "stdout",
     "output_type": "stream",
     "text": [
      "0\n"
     ]
    }
   ],
   "source": [
    "print(count)"
   ]
  },
  {
   "cell_type": "code",
   "execution_count": 76,
   "metadata": {},
   "outputs": [],
   "source": [
    "path3 = 'patches/original/'\n",
    "path4 = 'patches/style/'\n",
    "count=0\n",
    "for i in range(9925):\n",
    "    filename2 = os.listdir(path2)[i]\n",
    "    if filename2 not in del2:\n",
    "        #print(filename2)\n",
    "        filename1 = filename2[:5] + filename2[6:]\n",
    "        if filename1 not in del1:\n",
    "            #print(path1+filename1)\n",
    "            shutil.copy(path1 + filename1, path3 + str(count) +'.tif')\n",
    "            shutil.copy(path2 + filename2, path4 + str(count) + '.tif')\n",
    "            count += 1\n",
    "    "
   ]
  },
  {
   "cell_type": "code",
   "execution_count": 78,
   "metadata": {},
   "outputs": [
    {
     "data": {
      "text/plain": [
       "9865"
      ]
     },
     "execution_count": 78,
     "metadata": {},
     "output_type": "execute_result"
    }
   ],
   "source": [
    "len(os.listdir(path3))"
   ]
  },
  {
   "cell_type": "code",
   "execution_count": 79,
   "metadata": {},
   "outputs": [
    {
     "data": {
      "text/plain": [
       "9865"
      ]
     },
     "execution_count": 79,
     "metadata": {},
     "output_type": "execute_result"
    }
   ],
   "source": [
    "len(os.listdir(path4))"
   ]
  },
  {
   "cell_type": "code",
   "execution_count": null,
   "metadata": {},
   "outputs": [],
   "source": []
  }
 ],
 "metadata": {
  "kernelspec": {
   "display_name": "Python 3",
   "language": "python",
   "name": "python3"
  },
  "language_info": {
   "codemirror_mode": {
    "name": "ipython",
    "version": 3
   },
   "file_extension": ".py",
   "mimetype": "text/x-python",
   "name": "python",
   "nbconvert_exporter": "python",
   "pygments_lexer": "ipython3",
   "version": "3.7.1"
  }
 },
 "nbformat": 4,
 "nbformat_minor": 2
}
